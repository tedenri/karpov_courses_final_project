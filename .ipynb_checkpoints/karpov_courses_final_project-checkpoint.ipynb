{
 "cells": [
  {
   "cell_type": "markdown",
   "metadata": {},
   "source": [
    "### Задание 1. A/B–тестирование\n",
    "#### 1.1 Условие\n",
    "\n",
    "Одной из основных задач аналитика в нашей команде является корректное проведение экспериментов. Для этого мы применяем метод A/B–тестирования. В ходе тестирования одной гипотезы целевой группе была предложена новая механика оплаты услуг на сайте, у контрольной группы оставалась базовая механика. В качестве задания Вам необходимо проанализировать итоги эксперимента и сделать вывод, стоит ли запускать новую механику оплаты на всех пользователей.\n",
    "\n",
    "#### 1.2 Входные данные\n",
    "\n",
    "В качестве входных данных Вы имеете 4 csv-файла:\n",
    "- `groups.csv` - файл с информацией о принадлежности пользователя к контрольной или экспериментальной группе (А – контроль, B – целевая группа) \n",
    "- `groups_add.csv` - дополнительный файл с пользователями, который вам прислали спустя 2 дня после передачи данных\n",
    "- `active_studs.csv` - файл с информацией о пользователях, которые зашли на платформу в дни проведения эксперимента. \n",
    "- `checks.csv` - файл с информацией об оплатах пользователей в дни проведения эксперимента. \n",
    "\n",
    "#### 1.3 Вопросы\n",
    "\n",
    "Предлагаем Вам ответить на следующие вопросы:\n",
    "\n",
    "- На какие метрики Вы смотрите в ходе анализа и почему?\n",
    "- Имеются ли различия в показателях и с чем они могут быть связаны?\n",
    "- Являются ли эти различия статистически значимыми?\n",
    "- Стоит ли запускать новую механику на всех пользователей?\n",
    "- Данный список вопросов не является обязательным, и Вы можете при своём ответе опираться на собственный план.\n",
    "\n",
    "#### 1.4 Требования к ответу\n",
    "\n",
    "При выполнении тестового задания необходимо использовать язык программирования Python. \n",
    "В файле обязательно должны быть комментарии к тем действиям, которые Вы выполняете с данными. \n",
    "Файл должен представлять собой законченный отчёт с выводами, сделанными в ходе исследования.\n",
    "\n",
    "### Задание 2. SQL\n",
    "#### 2.1 Очень усердные ученики.\n",
    "\n",
    "#### 2.1.1 Условие\n",
    "\n",
    "Образовательные курсы состоят из различных уроков, каждый из которых состоит из нескольких маленьких заданий. Каждое такое маленькое задание называется \"горошиной\". Назовём очень усердным учеником того пользователя, который хотя бы раз за текущий месяц правильно решил 20 горошин.\n",
    "\n",
    "#### 2.1.2 Задача\n",
    "\n",
    "Дана таблица `default.peas`:\n",
    "\n",
    "| Название атрибута | Тип атрибута | Смысловое значение                         |\n",
    "|-------------------|--------------|--------------------------------------------|\n",
    "| st_id             | int          | ID ученика                                 |\n",
    "| timest            | timestamp    | Время решения карточки                     |\n",
    "| correct           | bool         | Правильно ли решена горошина?              |\n",
    "| subject           | text         | Дисциплина, в которой находится горошина   |\n",
    "\n",
    "\n",
    "\n",
    "Необходимо написать __оптимальный запрос__, который даст информацию о количестве очень усердных студентов. NB! Под усердным студентом мы понимаем студента, который `правильно` решил 20 задач за текущий месяц.\n",
    "\n",
    "#### 2.2 Оптимизация воронки\n",
    "\n",
    "#### 2.2.1 Условие\n",
    "\n",
    "Образовательная платформа предлагает пройти студентам курсы по модели trial: студент может решить бесплатно лишь 30 горошин в день. Для неограниченного количества заданий в определенной дисциплине студенту необходимо приобрести полный доступ. Команда провела эксперимент, где был протестирован новый экран оплаты.\n",
    "\n",
    "#### 2.2.2 Задача\n",
    "\n",
    "Дана таблицы: `default.peas` (см. выше), `default.studs`:\n",
    "\n",
    "| Название атрибута | Тип атрибута | Смысловое значение                         |\n",
    "|-------------------|--------------|--------------------------------------------|\n",
    "| st_id             | int          | ID ученика                                 |\n",
    "| test_grp          | text         | Метка ученика в данном эксперименте        |\n",
    "\n",
    "\n",
    "\n",
    "и `default.final_project_check`:\n",
    "\n",
    "| Название атрибута | Тип атрибута | Смысловое значение                         |\n",
    "|-------------------|--------------|--------------------------------------------|\n",
    "| st_id             | int          | ID ученика                                 |\n",
    "| sale_time         | timestamp    | Время покупки                              |\n",
    "| money             | int          | Цена, по которой приобрели данный курс     |\n",
    "| subject           | text         |                                            |\n",
    "\t\n",
    "Необходимо __в одном запросе__ выгрузить следующую информацию о группах пользователей:\n",
    "\n",
    "- ARPU \n",
    "- ARPAU \n",
    "- CR в покупку \n",
    "- СR активного пользователя в покупку \n",
    "- CR пользователя из активности по математике (subject = ’math’) в покупку курса по математике\n",
    "- ARPU считается относительно всех пользователей, попавших в группы.\n",
    "\n",
    "`Активным` считается пользователь, за все время решивший `больше 10 задач` правильно в любых дисциплинах.\n",
    "\n",
    "`Активным по математике` считается пользователь, за все время решивший `2 или больше задач` правильно по математике.\n",
    "\n",
    "__Все данные находятся в табличном виде в ClickHouse__\n",
    "### Задание 3. Python\n",
    "#### 3.1 Задача\n",
    "\n",
    "1. Реализуйте функцию, которая будет автоматически подгружать информацию из дополнительного файла groups_add.csv (заголовки могут отличаться) и на основании дополнительных параметров пересчитывать метрики.\n",
    "2. Реализуйте функцию, которая будет строить графики по получаемым метрикам."
   ]
  },
  {
   "cell_type": "markdown",
   "metadata": {},
   "source": [
    "---\n",
    "\n",
    "## EDA (exploratory data analysis)\n",
    "\n",
    "---"
   ]
  },
  {
   "cell_type": "markdown",
   "metadata": {},
   "source": [
    ">Импортируем нужные нам библиотеки."
   ]
  },
  {
   "cell_type": "code",
   "execution_count": 2,
   "metadata": {},
   "outputs": [],
   "source": [
    "import pandas as pd\n",
    "import numpy as np\n",
    "\n",
    "import pandahouse as ph\n",
    "\n",
    "import requests\n",
    "from urllib.parse import urlencode\n",
    "\n",
    "import numpy as np\n",
    "from tqdm.auto import tqdm\n",
    "\n",
    "import matplotlib.pyplot as plt\n",
    "import matplotlib.ticker as ticker\n",
    "import seaborn as sns"
   ]
  },
  {
   "cell_type": "markdown",
   "metadata": {},
   "source": [
    ">Выгружаем данные."
   ]
  },
  {
   "cell_type": "code",
   "execution_count": 3,
   "metadata": {},
   "outputs": [],
   "source": [
    "df_groups = pd.read_csv('groups.csv', sep=';')\n",
    "df_groups_add = pd.read_csv('group_add.csv', sep=',')\n",
    "df_active_studs = pd.read_csv('active_studs.csv', sep=';')\n",
    "df_checks = pd.read_csv('checks.csv', sep=';')"
   ]
  },
  {
   "cell_type": "markdown",
   "metadata": {},
   "source": [
    ">Выведем информацию о кол-ве строк в каждом датафреме, пригодится  при дальнешем мердеже чтобы проверить  не потеряли ли мы данные."
   ]
  },
  {
   "cell_type": "code",
   "execution_count": 4,
   "metadata": {},
   "outputs": [
    {
     "name": "stdout",
     "output_type": "stream",
     "text": [
      "Кол-во строк в файлах:     \n",
      "df_groups 74484     \n",
      "df_groups_add 92     \n",
      "df_active_studs 8341     \n",
      "df_checks 541\n"
     ]
    }
   ],
   "source": [
    "print('Кол-во строк в файлах: \\\n",
    "    \\ndf_groups {} \\\n",
    "    \\ndf_groups_add {} \\\n",
    "    \\ndf_active_studs {} \\\n",
    "    \\ndf_checks {}'.format(df_groups.shape[0], df_groups_add.shape[0], df_active_studs.shape[0], df_checks.shape[0]))"
   ]
  },
  {
   "cell_type": "markdown",
   "metadata": {},
   "source": [
    ">Проверим все 4 датафрема на наличие пропущенных значений, перед их объеденением. isna переведет все значения в False или True, а sum посчитаем сумму по каждому столбцы (т.к. True = 1, a False = 0, на выходе мы получим корректную информацию)."
   ]
  },
  {
   "cell_type": "code",
   "execution_count": 97,
   "metadata": {},
   "outputs": [
    {
     "data": {
      "text/plain": [
       "id     0\n",
       "grp    0\n",
       "dtype: int64"
      ]
     },
     "execution_count": 97,
     "metadata": {},
     "output_type": "execute_result"
    }
   ],
   "source": [
    "df_groups.isna().sum()"
   ]
  },
  {
   "cell_type": "code",
   "execution_count": 98,
   "metadata": {},
   "outputs": [
    {
     "data": {
      "text/plain": [
       "id     0\n",
       "grp    0\n",
       "dtype: int64"
      ]
     },
     "execution_count": 98,
     "metadata": {},
     "output_type": "execute_result"
    }
   ],
   "source": [
    "df_groups_add.isna().sum()"
   ]
  },
  {
   "cell_type": "code",
   "execution_count": 99,
   "metadata": {},
   "outputs": [
    {
     "data": {
      "text/plain": [
       "student_id    0\n",
       "dtype: int64"
      ]
     },
     "execution_count": 99,
     "metadata": {},
     "output_type": "execute_result"
    }
   ],
   "source": [
    "df_active_studs.isna().sum()"
   ]
  },
  {
   "cell_type": "code",
   "execution_count": 100,
   "metadata": {},
   "outputs": [
    {
     "data": {
      "text/plain": [
       "student_id    0\n",
       "rev           0\n",
       "dtype: int64"
      ]
     },
     "execution_count": 100,
     "metadata": {},
     "output_type": "execute_result"
    }
   ],
   "source": [
    "df_checks.isna().sum()"
   ]
  },
  {
   "cell_type": "markdown",
   "metadata": {},
   "source": [
    ">Для начала соеденим файл что нам дали изначало с тем что дослали через два дня."
   ]
  },
  {
   "cell_type": "code",
   "execution_count": 7,
   "metadata": {},
   "outputs": [
    {
     "data": {
      "text/html": [
       "<div>\n",
       "<style scoped>\n",
       "    .dataframe tbody tr th:only-of-type {\n",
       "        vertical-align: middle;\n",
       "    }\n",
       "\n",
       "    .dataframe tbody tr th {\n",
       "        vertical-align: top;\n",
       "    }\n",
       "\n",
       "    .dataframe thead th {\n",
       "        text-align: right;\n",
       "    }\n",
       "</style>\n",
       "<table border=\"1\" class=\"dataframe\">\n",
       "  <thead>\n",
       "    <tr style=\"text-align: right;\">\n",
       "      <th></th>\n",
       "      <th>id</th>\n",
       "      <th>grp</th>\n",
       "    </tr>\n",
       "  </thead>\n",
       "  <tbody>\n",
       "    <tr>\n",
       "      <th>0</th>\n",
       "      <td>1489</td>\n",
       "      <td>B</td>\n",
       "    </tr>\n",
       "    <tr>\n",
       "      <th>1</th>\n",
       "      <td>1627</td>\n",
       "      <td>A</td>\n",
       "    </tr>\n",
       "    <tr>\n",
       "      <th>2</th>\n",
       "      <td>1768</td>\n",
       "      <td>B</td>\n",
       "    </tr>\n",
       "    <tr>\n",
       "      <th>3</th>\n",
       "      <td>1783</td>\n",
       "      <td>B</td>\n",
       "    </tr>\n",
       "    <tr>\n",
       "      <th>4</th>\n",
       "      <td>1794</td>\n",
       "      <td>A</td>\n",
       "    </tr>\n",
       "  </tbody>\n",
       "</table>\n",
       "</div>"
      ],
      "text/plain": [
       "     id grp\n",
       "0  1489   B\n",
       "1  1627   A\n",
       "2  1768   B\n",
       "3  1783   B\n",
       "4  1794   A"
      ]
     },
     "execution_count": 7,
     "metadata": {},
     "output_type": "execute_result"
    }
   ],
   "source": [
    "df_all_groups = pd.concat([df_groups, df_groups_add])\n",
    "df_all_groups.head()"
   ]
  },
  {
   "cell_type": "markdown",
   "metadata": {},
   "source": [
    ">Проверим, не потеряли ли мы строки.С помощью if/else. Если кол-во строк в получившимся датафреме совпадает с суммой строк в двух изначальных, то все хорошо."
   ]
  },
  {
   "cell_type": "code",
   "execution_count": 8,
   "metadata": {},
   "outputs": [
    {
     "name": "stdout",
     "output_type": "stream",
     "text": [
      "Good\n"
     ]
    }
   ],
   "source": [
    "if (df_all_groups.shape[0] == df_groups.shape[0] + df_groups_add.shape[0]) == True:\n",
    "    print ('Good')\n",
    "else:\n",
    "    print('Wrong')"
   ]
  },
  {
   "cell_type": "markdown",
   "metadata": {},
   "source": [
    ">Теперь объеденяем датафрем с id активных пользователей в период эксперимента с датарфемом содержащим обозначение групп пользователей, использвуем inner merge чтобы оставить только интересущих нас пользователей. После к этому датафрему присоеденим датафрем с оплатами пользователйе, только использоуем уже left merge, а занчение NaN в ячейки даст нам знать что пользователь не совершал покупку."
   ]
  },
  {
   "cell_type": "code",
   "execution_count": 9,
   "metadata": {},
   "outputs": [
    {
     "data": {
      "text/html": [
       "<div>\n",
       "<style scoped>\n",
       "    .dataframe tbody tr th:only-of-type {\n",
       "        vertical-align: middle;\n",
       "    }\n",
       "\n",
       "    .dataframe tbody tr th {\n",
       "        vertical-align: top;\n",
       "    }\n",
       "\n",
       "    .dataframe thead th {\n",
       "        text-align: right;\n",
       "    }\n",
       "</style>\n",
       "<table border=\"1\" class=\"dataframe\">\n",
       "  <thead>\n",
       "    <tr style=\"text-align: right;\">\n",
       "      <th></th>\n",
       "      <th>student_id</th>\n",
       "      <th>id</th>\n",
       "      <th>grp</th>\n",
       "      <th>rev</th>\n",
       "    </tr>\n",
       "  </thead>\n",
       "  <tbody>\n",
       "    <tr>\n",
       "      <th>0</th>\n",
       "      <td>581585</td>\n",
       "      <td>581585</td>\n",
       "      <td>A</td>\n",
       "      <td>NaN</td>\n",
       "    </tr>\n",
       "    <tr>\n",
       "      <th>1</th>\n",
       "      <td>5723133</td>\n",
       "      <td>5723133</td>\n",
       "      <td>A</td>\n",
       "      <td>NaN</td>\n",
       "    </tr>\n",
       "    <tr>\n",
       "      <th>2</th>\n",
       "      <td>3276743</td>\n",
       "      <td>3276743</td>\n",
       "      <td>B</td>\n",
       "      <td>NaN</td>\n",
       "    </tr>\n",
       "    <tr>\n",
       "      <th>3</th>\n",
       "      <td>4238589</td>\n",
       "      <td>4238589</td>\n",
       "      <td>A</td>\n",
       "      <td>NaN</td>\n",
       "    </tr>\n",
       "    <tr>\n",
       "      <th>4</th>\n",
       "      <td>4475369</td>\n",
       "      <td>4475369</td>\n",
       "      <td>B</td>\n",
       "      <td>NaN</td>\n",
       "    </tr>\n",
       "  </tbody>\n",
       "</table>\n",
       "</div>"
      ],
      "text/plain": [
       "   student_id       id grp  rev\n",
       "0      581585   581585   A  NaN\n",
       "1     5723133  5723133   A  NaN\n",
       "2     3276743  3276743   B  NaN\n",
       "3     4238589  4238589   A  NaN\n",
       "4     4475369  4475369   B  NaN"
      ]
     },
     "execution_count": 9,
     "metadata": {},
     "output_type": "execute_result"
    }
   ],
   "source": [
    "df = pd.merge(df_active_studs, df_all_groups, left_on='student_id', right_on='id') \\\n",
    "    .merge(df_checks, on='student_id', how='left')\n",
    "#первый раз используем inner merge, он задан по умолчанию\n",
    "#во второй раз воспользуемся left merge, т.к. не для всех id есть оплата\n",
    "df.head()"
   ]
  },
  {
   "cell_type": "markdown",
   "metadata": {},
   "source": [
    ">Проверим, что получившийся датафрем имеет одинаковое кол-во строк с тем что нам выслали в файле active_studs.С помощью if/else. Если кол-во строк в получившимся датафреме совпадает, то получим сообщение что все хорошо."
   ]
  },
  {
   "cell_type": "code",
   "execution_count": 10,
   "metadata": {},
   "outputs": [
    {
     "name": "stdout",
     "output_type": "stream",
     "text": [
      "Good\n"
     ]
    }
   ],
   "source": [
    "if (df.shape[0] == df_active_studs.shape[0]) == True:\n",
    "    print ('Good')\n",
    "else:\n",
    "    print('Wrong')"
   ]
  },
  {
   "cell_type": "markdown",
   "metadata": {},
   "source": [
    ">Заменим NaN на 0, для наглядности и удобства подсчетов и так как столбцы student_id и id полностью дублируют друг друга, уберем один из них в датафрейме с которым будем работать в дальнешим."
   ]
  },
  {
   "cell_type": "code",
   "execution_count": 11,
   "metadata": {},
   "outputs": [
    {
     "data": {
      "text/html": [
       "<div>\n",
       "<style scoped>\n",
       "    .dataframe tbody tr th:only-of-type {\n",
       "        vertical-align: middle;\n",
       "    }\n",
       "\n",
       "    .dataframe tbody tr th {\n",
       "        vertical-align: top;\n",
       "    }\n",
       "\n",
       "    .dataframe thead th {\n",
       "        text-align: right;\n",
       "    }\n",
       "</style>\n",
       "<table border=\"1\" class=\"dataframe\">\n",
       "  <thead>\n",
       "    <tr style=\"text-align: right;\">\n",
       "      <th></th>\n",
       "      <th>student_id</th>\n",
       "      <th>grp</th>\n",
       "      <th>rev</th>\n",
       "    </tr>\n",
       "  </thead>\n",
       "  <tbody>\n",
       "    <tr>\n",
       "      <th>0</th>\n",
       "      <td>581585</td>\n",
       "      <td>A</td>\n",
       "      <td>0.0</td>\n",
       "    </tr>\n",
       "    <tr>\n",
       "      <th>1</th>\n",
       "      <td>5723133</td>\n",
       "      <td>A</td>\n",
       "      <td>0.0</td>\n",
       "    </tr>\n",
       "    <tr>\n",
       "      <th>2</th>\n",
       "      <td>3276743</td>\n",
       "      <td>B</td>\n",
       "      <td>0.0</td>\n",
       "    </tr>\n",
       "    <tr>\n",
       "      <th>3</th>\n",
       "      <td>4238589</td>\n",
       "      <td>A</td>\n",
       "      <td>0.0</td>\n",
       "    </tr>\n",
       "    <tr>\n",
       "      <th>4</th>\n",
       "      <td>4475369</td>\n",
       "      <td>B</td>\n",
       "      <td>0.0</td>\n",
       "    </tr>\n",
       "    <tr>\n",
       "      <th>...</th>\n",
       "      <td>...</td>\n",
       "      <td>...</td>\n",
       "      <td>...</td>\n",
       "    </tr>\n",
       "    <tr>\n",
       "      <th>8336</th>\n",
       "      <td>1794344</td>\n",
       "      <td>B</td>\n",
       "      <td>0.0</td>\n",
       "    </tr>\n",
       "    <tr>\n",
       "      <th>8337</th>\n",
       "      <td>296883</td>\n",
       "      <td>B</td>\n",
       "      <td>0.0</td>\n",
       "    </tr>\n",
       "    <tr>\n",
       "      <th>8338</th>\n",
       "      <td>3598448</td>\n",
       "      <td>B</td>\n",
       "      <td>0.0</td>\n",
       "    </tr>\n",
       "    <tr>\n",
       "      <th>8339</th>\n",
       "      <td>3610547</td>\n",
       "      <td>B</td>\n",
       "      <td>290.0</td>\n",
       "    </tr>\n",
       "    <tr>\n",
       "      <th>8340</th>\n",
       "      <td>205705</td>\n",
       "      <td>B</td>\n",
       "      <td>0.0</td>\n",
       "    </tr>\n",
       "  </tbody>\n",
       "</table>\n",
       "<p>8341 rows × 3 columns</p>\n",
       "</div>"
      ],
      "text/plain": [
       "      student_id grp    rev\n",
       "0         581585   A    0.0\n",
       "1        5723133   A    0.0\n",
       "2        3276743   B    0.0\n",
       "3        4238589   A    0.0\n",
       "4        4475369   B    0.0\n",
       "...          ...  ..    ...\n",
       "8336     1794344   B    0.0\n",
       "8337      296883   B    0.0\n",
       "8338     3598448   B    0.0\n",
       "8339     3610547   B  290.0\n",
       "8340      205705   B    0.0\n",
       "\n",
       "[8341 rows x 3 columns]"
      ]
     },
     "execution_count": 11,
     "metadata": {},
     "output_type": "execute_result"
    }
   ],
   "source": [
    "df['rev'] = df['rev'].fillna(0) #заменяем все NaN на 0\n",
    "df = df[['student_id', 'grp', 'rev']] #оставляем только выбранные нами столбцы\n",
    "#на выходе получаем датафрем с которым и будем работать в дальнейшем\n",
    "df"
   ]
  },
  {
   "cell_type": "markdown",
   "metadata": {},
   "source": [
    "---\n",
    "### Задание 1. A/B–тестирование\n",
    "#### 1.1 Условие\n",
    "\n",
    "Одной из основных задач аналитика в нашей команде является корректное проведение экспериментов. Для этого мы применяем метод A/B–тестирования. В ходе тестирования одной гипотезы целевой группе была предложена новая механика оплаты услуг на сайте, у контрольной группы оставалась базовая механика. В качестве задания Вам необходимо проанализировать итоги эксперимента и сделать вывод, стоит ли запускать новую механику оплаты на всех пользователей.\n",
    "\n",
    "#### 1.2 Входные данные\n",
    "\n",
    "В качестве входных данных Вы имеете 4 csv-файла:\n",
    "- `groups.csv` - файл с информацией о принадлежности пользователя к контрольной или экспериментальной группе (А – контроль, B – целевая группа) \n",
    "- `groups_add.csv` - дополнительный файл с пользователями, который вам прислали спустя 2 дня после передачи данных\n",
    "- `active_studs.csv` - файл с информацией о пользователях, которые зашли на платформу в дни проведения эксперимента. \n",
    "- `checks.csv` - файл с информацией об оплатах пользователей в дни проведения эксперимента. \n",
    "\n",
    "#### 1.3 Вопросы\n",
    "\n",
    "Предлагаем Вам ответить на следующие вопросы:\n",
    "\n",
    "- На какие метрики Вы смотрите в ходе анализа и почему?\n",
    "- Имеются ли различия в показателях и с чем они могут быть связаны?\n",
    "- Являются ли эти различия статистически значимыми?\n",
    "- Стоит ли запускать новую механику на всех пользователей?\n",
    "- Данный список вопросов не является обязательным, и Вы можете при своём ответе опираться на собственный план.\n",
    "\n",
    "#### 1.4 Требования к ответу\n",
    "\n",
    "При выполнении тестового задания необходимо использовать язык программирования Python. \n",
    "В файле обязательно должны быть комментарии к тем действиям, которые Вы выполняете с данными. \n",
    "Файл должен представлять собой законченный отчёт с выводами, сделанными в ходе исследования.\n",
    "\n",
    "---"
   ]
  },
  {
   "cell_type": "markdown",
   "metadata": {},
   "source": [
    ">В нашем случай считаю оптимальным выбрать для анализа следующие метркии:\n",
    "1. CR (Конверсия) - покажет отношения клиентов к пользователям\n",
    "2. ARPUU - покажет средний доход на клиента\n",
    "3. ARPU - покажет средний доход с привлечённого пользователя\n",
    "\n",
    ">Так мы увидим кол-во пользователей на всех этапах наших воронок + сможем посмотреть на на реальный доход от каждого пользователя.\n",
    "\n",
    ">Расчет метрик будем проводить по следующим формулам:\n",
    "1. CR = кол-во клиентов / кол-во пользователей\n",
    "2. ARPPU = суммарный доход / кол-во клиентов\n",
    "3. ARPU = CR * ARPPU"
   ]
  },
  {
   "cell_type": "code",
   "execution_count": 12,
   "metadata": {},
   "outputs": [
    {
     "name": "stdout",
     "output_type": "stream",
     "text": [
      "Кол-во пользователей в группe А: 1538     \n",
      "Кол-во пользователей в группe B: 6803     \n",
      "Кол-во клиентов в группe A: 78     \n",
      "Кол-во клиентов в группe B: 314     \n",
      "Конверсия в клиента в группе А: 0.05071521456436931     \n",
      "Конверсия в клиента в группе B: 0.046156107599588415     \n",
      "Доход группы А: 72820.0     \n",
      "Доход группы B: 394974.0035     \n",
      "ARPPU группы A: 933.5897435897435     \n",
      "ARPPU группы B: 1257.8789920382164     \n",
      "ARPU группы А: 47.34720416124837     \n",
      "ARPU группы B: 58.05879810377774\n"
     ]
    }
   ],
   "source": [
    "number_users_a = df.query('grp == \"A\"').student_id.count() #кол-во пользователей в группе А\n",
    "number_users_b = df.query('grp == \"B\"').student_id.count() #кол-во пользователей в группе B\n",
    "number_clients_a = df.query('grp == \"A\" and rev > 0').student_id.count() #кол-во клиентов (т.е. пользователи которые заплатили) в группе А\n",
    "number_clients_b = df.query('grp == \"B\" and rev > 0').student_id.count() #кол-во клиентов (т.е. пользователи которые заплатили) в группе B\n",
    "conversion_a = number_clients_a / number_users_a #CR в группе A\n",
    "conversion_b = number_clients_b / number_users_b #CR в группе B\n",
    "revenue_a = df.query('grp == \"A\"').rev.sum() #суммарный доход в группу A\n",
    "revenue_b = df.query('grp == \"B\"').rev.sum() #суммарный доход в группу B\n",
    "arppu_a = revenue_a/number_clients_a #ARPPU в группе A\n",
    "arppu_b = revenue_b/number_clients_b #ARPPU в группе B\n",
    "arpu_a = conversion_a * arppu_a #ARPU в группе A\n",
    "arpu_b = conversion_b * arppu_b #ARPU в группе B\n",
    "\n",
    "\n",
    "\n",
    "print('Кол-во пользователей в группe А: {} \\\n",
    "    \\nКол-во пользователей в группe B: {} \\\n",
    "    \\nКол-во клиентов в группe A: {} \\\n",
    "    \\nКол-во клиентов в группe B: {} \\\n",
    "    \\nКонверсия в клиента в группе А: {} \\\n",
    "    \\nКонверсия в клиента в группе B: {} \\\n",
    "    \\nДоход группы А: {} \\\n",
    "    \\nДоход группы B: {} \\\n",
    "    \\nARPPU группы A: {} \\\n",
    "    \\nARPPU группы B: {} \\\n",
    "    \\nARPU группы А: {} \\\n",
    "    \\nARPU группы B: {}'\n",
    "    .format(number_users_a, number_users_b, number_clients_a, number_clients_b, conversion_a, conversion_b, revenue_a, revenue_b, arppu_a, arppu_b, arpu_a, arpu_b))"
   ]
  },
  {
   "cell_type": "markdown",
   "metadata": {},
   "source": [
    ">Теперь посмотрим как отличаются метрики в двух группах:"
   ]
  },
  {
   "cell_type": "code",
   "execution_count": 13,
   "metadata": {},
   "outputs": [
    {
     "data": {
      "text/plain": [
       "91.01"
      ]
     },
     "execution_count": 13,
     "metadata": {},
     "output_type": "execute_result"
    }
   ],
   "source": [
    "round(conversion_b / conversion_a * 100, 2)"
   ]
  },
  {
   "cell_type": "code",
   "execution_count": 14,
   "metadata": {},
   "outputs": [
    {
     "data": {
      "text/plain": [
       "134.74"
      ]
     },
     "execution_count": 14,
     "metadata": {},
     "output_type": "execute_result"
    }
   ],
   "source": [
    "round(arppu_b / arppu_a * 100, 2)"
   ]
  },
  {
   "cell_type": "code",
   "execution_count": 15,
   "metadata": {},
   "outputs": [
    {
     "data": {
      "text/plain": [
       "122.62"
      ]
     },
     "execution_count": 15,
     "metadata": {},
     "output_type": "execute_result"
    }
   ],
   "source": [
    "round(arpu_b / arpu_a * 100, 2)"
   ]
  },
  {
   "cell_type": "markdown",
   "metadata": {},
   "source": [
    ">Видим что по полученным данных `CR (конверсия) упала почти на 9%`, однако `ARPPU и ARPU увеличились почти на 35 и 23%` соответственно. Т.е. в группе B ользователи стали реже совершать целевое действие (покупку), однако средний чек тех кто это делает значительно увеличился.\n",
    "\n",
    ">Теперь применим статистику чтобы понять являются ли эти различия значимыми. Для начала сравним размеры групп и построим график по покупкам пользователей."
   ]
  },
  {
   "cell_type": "code",
   "execution_count": 16,
   "metadata": {},
   "outputs": [
    {
     "data": {
      "text/html": [
       "<div>\n",
       "<style scoped>\n",
       "    .dataframe tbody tr th:only-of-type {\n",
       "        vertical-align: middle;\n",
       "    }\n",
       "\n",
       "    .dataframe tbody tr th {\n",
       "        vertical-align: top;\n",
       "    }\n",
       "\n",
       "    .dataframe thead th {\n",
       "        text-align: right;\n",
       "    }\n",
       "</style>\n",
       "<table border=\"1\" class=\"dataframe\">\n",
       "  <thead>\n",
       "    <tr style=\"text-align: right;\">\n",
       "      <th></th>\n",
       "      <th>grp</th>\n",
       "      <th>student_id</th>\n",
       "    </tr>\n",
       "  </thead>\n",
       "  <tbody>\n",
       "    <tr>\n",
       "      <th>0</th>\n",
       "      <td>A</td>\n",
       "      <td>1538</td>\n",
       "    </tr>\n",
       "    <tr>\n",
       "      <th>1</th>\n",
       "      <td>B</td>\n",
       "      <td>6803</td>\n",
       "    </tr>\n",
       "  </tbody>\n",
       "</table>\n",
       "</div>"
      ],
      "text/plain": [
       "  grp  student_id\n",
       "0   A        1538\n",
       "1   B        6803"
      ]
     },
     "execution_count": 16,
     "metadata": {},
     "output_type": "execute_result"
    }
   ],
   "source": [
    "df.groupby('grp', as_index=False).agg({'student_id': 'count'})"
   ]
  },
  {
   "cell_type": "code",
   "execution_count": 17,
   "metadata": {},
   "outputs": [
    {
     "data": {
      "text/plain": [
       "<seaborn.axisgrid.FacetGrid at 0x7fcff684be10>"
      ]
     },
     "execution_count": 17,
     "metadata": {},
     "output_type": "execute_result"
    },
    {
     "data": {
      "image/png": "[encoded data removed]",
      "text/plain": [
       "<Figure size 402.875x360 with 1 Axes>"
      ]
     },
     "metadata": {
      "needs_background": "light"
     },
     "output_type": "display_data"
    }
   ],
   "source": [
    "sns.displot(data=df, x='rev', hue='grp') #по всем значения (включая нули)"
   ]
  },
  {
   "cell_type": "code",
   "execution_count": 18,
   "metadata": {},
   "outputs": [
    {
     "data": {
      "text/plain": [
       "<seaborn.axisgrid.FacetGrid at 0x7fcff46c4c50>"
      ]
     },
     "execution_count": 18,
     "metadata": {},
     "output_type": "execute_result"
    },
    {
     "data": {
      "image/png": "[encoded data removed]",
      "text/plain": [
       "<Figure size 402.875x360 with 1 Axes>"
      ]
     },
     "metadata": {
      "needs_background": "light"
     },
     "output_type": "display_data"
    }
   ],
   "source": [
    "sns.displot(data=df.query('rev > 0'), x='rev', hue='grp') #только среди клиентов (т.е. rev>0)"
   ]
  },
  {
   "cell_type": "markdown",
   "metadata": {},
   "source": [
    ">Как видим размеры групп А и В большие, но при этом очень сильно отличаются между собой, к томуу же распределения явно ненормальные. Следовательно т-тест и тест Манна-Уитни могут быть неточными, в таком случае лучше воспользуемся бутстрапом, т.е. мы не будем считать стат.значимость на основе теоретических показателей, а положимся только на данные эксперимента.\n",
    "\n",
    ">Для этой проверки напишем функцию."
   ]
  },
  {
   "cell_type": "code",
   "execution_count": 19,
   "metadata": {},
   "outputs": [],
   "source": [
    "def get_bootstrap(\n",
    "    data_column_1, # числовые значения первой выборки\n",
    "    data_column_2, # числовые значения второй выборки\n",
    "    boot_it = 10000, # количество бутстрэп-подвыборок\n",
    "    statistic = np.mean, # интересующая нас статистика\n",
    "    bootstrap_conf_level = 0.95 # уровень значимости\n",
    "    ):\n",
    "    boot_len = max([len(data_column_1), len(data_column_2)])\n",
    "    boot_data = []\n",
    "    for i in tqdm(range(boot_it)): # извлекаем подвыборки\n",
    "        samples_1 = data_column_1.sample(\n",
    "            boot_len, \n",
    "            replace = True # параметр возвращения\n",
    "        ).values\n",
    "        \n",
    "        samples_2 = data_column_2.sample(\n",
    "            boot_len, # чтобы сохранить дисперсию, берем такой же размер выборки\n",
    "            replace = True\n",
    "        ).values\n",
    "        \n",
    "        boot_data.append(statistic(samples_1-samples_2)) \n",
    "    pd_boot_data = pd.DataFrame(boot_data)\n",
    "        \n",
    "    left_quant = (1 - bootstrap_conf_level)/2\n",
    "    right_quant = 1 - (1 - bootstrap_conf_level) / 2\n",
    "    quants = pd_boot_data.quantile([left_quant, right_quant])\n",
    "        \n",
    "    p_1 = norm.cdf(\n",
    "        x = 0, \n",
    "        loc = np.mean(boot_data), \n",
    "        scale = np.std(boot_data)\n",
    "    )\n",
    "    p_2 = norm.cdf(\n",
    "        x = 0, \n",
    "        loc = -np.mean(boot_data), \n",
    "        scale = np.std(boot_data)\n",
    "    )\n",
    "    p_value = min(p_1, p_2) * 2\n",
    "        \n",
    "    # Визуализация\n",
    "    _, _, bars = plt.hist(pd_boot_data[0], bins = 50)\n",
    "    for bar in bars:\n",
    "        if abs(bar.get_x()) <= quants.iloc[0][0] or abs(bar.get_x()) >= quants.iloc[1][0]:\n",
    "            bar.set_facecolor('red')\n",
    "        else: \n",
    "            bar.set_facecolor('grey')\n",
    "            bar.set_edgecolor('black')\n",
    "    \n",
    "    plt.style.use('ggplot')\n",
    "    plt.vlines(quants,ymin=0,ymax=500,linestyle='--')\n",
    "    plt.xlabel('boot_data')\n",
    "    plt.ylabel('frequency')\n",
    "    plt.title(\"Histogram of boot_data\")\n",
    "    plt.show()\n",
    "       \n",
    "    return {\"quants\": quants, \n",
    "            \"p_value\": p_value}\n",
    "\n",
    "plt.style.use('ggplot')"
   ]
  },
  {
   "cell_type": "markdown",
   "metadata": {},
   "source": [
    ">Для метрики CR, требуется добавить еще один столбец, с информацией о том является ли пользователь клиентом (т.е. совершал ли он оплату)."
   ]
  },
  {
   "cell_type": "code",
   "execution_count": 20,
   "metadata": {},
   "outputs": [
    {
     "data": {
      "text/html": [
       "<div>\n",
       "<style scoped>\n",
       "    .dataframe tbody tr th:only-of-type {\n",
       "        vertical-align: middle;\n",
       "    }\n",
       "\n",
       "    .dataframe tbody tr th {\n",
       "        vertical-align: top;\n",
       "    }\n",
       "\n",
       "    .dataframe thead th {\n",
       "        text-align: right;\n",
       "    }\n",
       "</style>\n",
       "<table border=\"1\" class=\"dataframe\">\n",
       "  <thead>\n",
       "    <tr style=\"text-align: right;\">\n",
       "      <th></th>\n",
       "      <th>student_id</th>\n",
       "      <th>grp</th>\n",
       "      <th>rev</th>\n",
       "      <th>client</th>\n",
       "    </tr>\n",
       "  </thead>\n",
       "  <tbody>\n",
       "    <tr>\n",
       "      <th>0</th>\n",
       "      <td>581585</td>\n",
       "      <td>A</td>\n",
       "      <td>0.0</td>\n",
       "      <td>0</td>\n",
       "    </tr>\n",
       "    <tr>\n",
       "      <th>1</th>\n",
       "      <td>5723133</td>\n",
       "      <td>A</td>\n",
       "      <td>0.0</td>\n",
       "      <td>0</td>\n",
       "    </tr>\n",
       "    <tr>\n",
       "      <th>2</th>\n",
       "      <td>3276743</td>\n",
       "      <td>B</td>\n",
       "      <td>0.0</td>\n",
       "      <td>0</td>\n",
       "    </tr>\n",
       "    <tr>\n",
       "      <th>3</th>\n",
       "      <td>4238589</td>\n",
       "      <td>A</td>\n",
       "      <td>0.0</td>\n",
       "      <td>0</td>\n",
       "    </tr>\n",
       "    <tr>\n",
       "      <th>4</th>\n",
       "      <td>4475369</td>\n",
       "      <td>B</td>\n",
       "      <td>0.0</td>\n",
       "      <td>0</td>\n",
       "    </tr>\n",
       "  </tbody>\n",
       "</table>\n",
       "</div>"
      ],
      "text/plain": [
       "   student_id grp  rev  client\n",
       "0      581585   A  0.0       0\n",
       "1     5723133   A  0.0       0\n",
       "2     3276743   B  0.0       0\n",
       "3     4238589   A  0.0       0\n",
       "4     4475369   B  0.0       0"
      ]
     },
     "execution_count": 20,
     "metadata": {},
     "output_type": "execute_result"
    }
   ],
   "source": [
    "df['client'] = df.rev.apply(lambda x: 1 if x > 0 else 0) # 1 - клиент, 0 - пользователь\n",
    "df.head()"
   ]
  },
  {
   "cell_type": "markdown",
   "metadata": {},
   "source": [
    ">Создаем датафрейм для каждой группы, значения которых и будем подставлять в нашу фукнцию."
   ]
  },
  {
   "cell_type": "code",
   "execution_count": 21,
   "metadata": {},
   "outputs": [],
   "source": [
    "df_a = df.query('grp == \"A\"')\n",
    "df_b = df.query('grp == \"B\"')"
   ]
  },
  {
   "cell_type": "markdown",
   "metadata": {},
   "source": [
    ">Теперь применим нашу функцию для нахождения стат.значимых отличий между группами по трем метрикам. Если получившийся доверительный (95%) интервал попадает в ноль, что будем делать вывод о применение нулевой гипотезы (равенство метрик), в противном случае, отвергаем нулевую гипотезу принимаем что мы обнаружили стат.значимые отличия.\n",
    "\n",
    ">CR (конверсия)"
   ]
  },
  {
   "cell_type": "code",
   "execution_count": 22,
   "metadata": {},
   "outputs": [
    {
     "data": {
      "application/vnd.jupyter.widget-view+json": {
       "model_id": "b4e7a3a832474a74959add2ae2747914",
       "version_major": 2,
       "version_minor": 0
      },
      "text/plain": [
       "HBox(children=(FloatProgress(value=0.0, max=10000.0), HTML(value='')))"
      ]
     },
     "metadata": {},
     "output_type": "display_data"
    },
    {
     "name": "stdout",
     "output_type": "stream",
     "text": [
      "\n"
     ]
    },
    {
     "data": {
      "image/png": "[encoded data removed]",
      "text/plain": [
       "<Figure size 432x288 with 1 Axes>"
      ]
     },
     "metadata": {},
     "output_type": "display_data"
    },
    {
     "data": {
      "text/plain": [
       "{'quants':               0\n",
       " 0.025 -0.002499\n",
       " 0.975  0.012054,\n",
       " 'p_value': 0.21623705727271214}"
      ]
     },
     "execution_count": 22,
     "metadata": {},
     "output_type": "execute_result"
    }
   ],
   "source": [
    "get_bootstrap(\n",
    "    df_a.client, # числовые значения первой выборки\n",
    "    df_b.client, # числовые значения второй выборки\n",
    "    boot_it = 10000, # количество бутстрэп-подвыборок\n",
    "    statistic = np.mean, # интересующая нас статистика\n",
    "    bootstrap_conf_level = 0.95 # уровень значимости\n",
    ")"
   ]
  },
  {
   "cell_type": "markdown",
   "metadata": {},
   "source": [
    ">ARPU"
   ]
  },
  {
   "cell_type": "code",
   "execution_count": 23,
   "metadata": {},
   "outputs": [
    {
     "data": {
      "application/vnd.jupyter.widget-view+json": {
       "model_id": "511d1ee0754b48fc9d1f842f771fb00b",
       "version_major": 2,
       "version_minor": 0
      },
      "text/plain": [
       "HBox(children=(FloatProgress(value=0.0, max=10000.0), HTML(value='')))"
      ]
     },
     "metadata": {},
     "output_type": "display_data"
    },
    {
     "name": "stdout",
     "output_type": "stream",
     "text": [
      "\n"
     ]
    },
    {
     "data": {
      "image/png": "[encoded data removed]",
      "text/plain": [
       "<Figure size 432x288 with 1 Axes>"
      ]
     },
     "metadata": {},
     "output_type": "display_data"
    },
    {
     "data": {
      "text/plain": [
       "{'quants':                0\n",
       " 0.025 -20.906347\n",
       " 0.975  -0.703506,\n",
       " 'p_value': 0.038488403742479645}"
      ]
     },
     "execution_count": 23,
     "metadata": {},
     "output_type": "execute_result"
    }
   ],
   "source": [
    "get_bootstrap(\n",
    "    df_a.rev, # числовые значения первой выборки\n",
    "    df_b.rev, # числовые значения второй выборки\n",
    "    boot_it = 10000, # количество бутстрэп-подвыборок\n",
    "    statistic = np.mean, # интересующая нас статистика\n",
    "    bootstrap_conf_level = 0.95 # уровень значимости\n",
    ")"
   ]
  },
  {
   "cell_type": "markdown",
   "metadata": {},
   "source": [
    ">ARPPU (оставим только клиентов, т.е. исключим нули)"
   ]
  },
  {
   "cell_type": "code",
   "execution_count": 24,
   "metadata": {},
   "outputs": [
    {
     "data": {
      "application/vnd.jupyter.widget-view+json": {
       "model_id": "55f22e9bb3c048ddb4c5032b1e95ecd1",
       "version_major": 2,
       "version_minor": 0
      },
      "text/plain": [
       "HBox(children=(FloatProgress(value=0.0, max=10000.0), HTML(value='')))"
      ]
     },
     "metadata": {},
     "output_type": "display_data"
    },
    {
     "name": "stdout",
     "output_type": "stream",
     "text": [
      "\n"
     ]
    },
    {
     "data": {
      "image/png": "[encoded data removed]",
      "text/plain": [
       "<Figure size 432x288 with 1 Axes>"
      ]
     },
     "metadata": {},
     "output_type": "display_data"
    },
    {
     "data": {
      "text/plain": [
       "{'quants':                0\n",
       " 0.025 -456.50654\n",
       " 0.975 -189.95622,\n",
       " 'p_value': 1.5235131921537592e-06}"
      ]
     },
     "execution_count": 24,
     "metadata": {},
     "output_type": "execute_result"
    }
   ],
   "source": [
    "get_bootstrap(\n",
    "    df_a.query('rev>0').rev, # числовые значения первой выборки\n",
    "    df_b.query('rev>0').rev, # числовые значения второй выборки\n",
    "    boot_it = 10000, # количество бутстрэп-подвыборок\n",
    "    statistic = np.mean, # интересующая нас статистика\n",
    "    bootstrap_conf_level = 0.95 # уровень значимости\n",
    ")"
   ]
  },
  {
   "cell_type": "markdown",
   "metadata": {},
   "source": [
    ">По результатам бутстрапа можно сказать что ранее обнаруженный нами рост метрик ARPPU и ARPU является статистически значимым, т.е. мы отвергаем нулевую гипотезу о равенстве этих метрик в двух группах. Что касается метрики CR которая показала падение относительно группы А, то по результату проверки отличий найдено не было, т.е. мы оставляем нулевую теорию и говорим что между этими метриками нет стат.значимых отличий.\n",
    "\n",
    ">Обновление стоит выкатывать на всех пользователей."
   ]
  },
  {
   "cell_type": "markdown",
   "metadata": {},
   "source": [
    "---\n",
    "### Задание 2. SQL\n",
    "#### 2.1 Очень усердные ученики.\n",
    "\n",
    "#### 2.1.1 Условие\n",
    "\n",
    "Образовательные курсы состоят из различных уроков, каждый из которых состоит из нескольких маленьких заданий. Каждое такое маленькое задание называется \"горошиной\". Назовём очень усердным учеником того пользователя, который хотя бы раз за текущий месяц правильно решил 20 горошин.\n",
    "\n",
    "#### 2.1.2 Задача\n",
    "\n",
    "Дана таблица `default.peas`:\n",
    "\n",
    "| Название атрибута | Тип атрибута | Смысловое значение                         |\n",
    "|-------------------|--------------|--------------------------------------------|\n",
    "| st_id             | int          | ID ученика                                 |\n",
    "| timest            | timestamp    | Время решения карточки                     |\n",
    "| correct           | bool         | Правильно ли решена горошина?              |\n",
    "| subject           | text         | Дисциплина, в которой находится горошина   |\n",
    "\n",
    "\n",
    "\n",
    "Необходимо написать __оптимальный запрос__, который даст информацию о количестве очень усердных студентов. NB! Под усердным студентом мы понимаем студента, который `правильно` решил 20 задач за текущий месяц.\n",
    "\n",
    "---"
   ]
  },
  {
   "cell_type": "code",
   "execution_count": 25,
   "metadata": {},
   "outputs": [],
   "source": [
    "#создаем словарь для подключения к default, где и лежат нужные нам таблицы\n",
    "connection_default = {'host': 'http://clickhouse.beslan.pro:8080',\n",
    "                      'database':'default',\n",
    "                      'user':'student', \n",
    "                      'password':'dpo_python_2020'\n",
    "                     }"
   ]
  },
  {
   "cell_type": "code",
   "execution_count": 26,
   "metadata": {},
   "outputs": [
    {
     "data": {
      "text/html": [
       "<div>\n",
       "<style scoped>\n",
       "    .dataframe tbody tr th:only-of-type {\n",
       "        vertical-align: middle;\n",
       "    }\n",
       "\n",
       "    .dataframe tbody tr th {\n",
       "        vertical-align: top;\n",
       "    }\n",
       "\n",
       "    .dataframe thead th {\n",
       "        text-align: right;\n",
       "    }\n",
       "</style>\n",
       "<table border=\"1\" class=\"dataframe\">\n",
       "  <thead>\n",
       "    <tr style=\"text-align: right;\">\n",
       "      <th></th>\n",
       "      <th>count_hard_student</th>\n",
       "    </tr>\n",
       "  </thead>\n",
       "  <tbody>\n",
       "    <tr>\n",
       "      <th>0</th>\n",
       "      <td>136</td>\n",
       "    </tr>\n",
       "  </tbody>\n",
       "</table>\n",
       "</div>"
      ],
      "text/plain": [
       "   count_hard_student\n",
       "0                 136"
      ]
     },
     "execution_count": 26,
     "metadata": {},
     "output_type": "execute_result"
    }
   ],
   "source": [
    "#создаем запрос\n",
    "q = '''\n",
    "    SELECT\n",
    "        COUNT(*) as count_hard_student --теперь считаем общее кол-во таких студентов\n",
    "    FROM                               --воспользуемся подзапросом\n",
    "        (\n",
    "        SELECT \n",
    "           st_id\n",
    "        FROM \n",
    "            {db}.peas\n",
    "        WHERE\n",
    "            correct == 1               --оставим только строки с правильно решенными задачами\n",
    "        GROUP BY\n",
    "            st_id\n",
    "        HAVING\n",
    "            COUNT(correct) >= 20       --после гурпировки оставим только строки с кол-ом правильных решений больше 20\n",
    "        )\n",
    "    \n",
    "    '''\n",
    "\n",
    "# отправляем запрос и записываем результат в пандасовский датафрейм\n",
    "q_count_hard_student = ph.read_clickhouse(query=q, connection=connection_default)\n",
    "q_count_hard_student"
   ]
  },
  {
   "cell_type": "markdown",
   "metadata": {},
   "source": [
    "---\n",
    "#### 2.2 Оптимизация воронки\n",
    "\n",
    "#### 2.2.1 Условие\n",
    "\n",
    "Образовательная платформа предлагает пройти студентам курсы по модели trial: студент может решить бесплатно лишь 30 горошин в день. Для неограниченного количества заданий в определенной дисциплине студенту необходимо приобрести полный доступ. Команда провела эксперимент, где был протестирован новый экран оплаты.\n",
    "\n",
    "#### 2.2.2 Задача\n",
    "\n",
    "Дана таблицы: `default.peas` (см. выше), `default.studs`:\n",
    "\n",
    "| Название атрибута | Тип атрибута | Смысловое значение                         |\n",
    "|-------------------|--------------|--------------------------------------------|\n",
    "| st_id             | int          | ID ученика                                 |\n",
    "| test_grp          | text         | Метка ученика в данном эксперименте        |\n",
    "\n",
    "\n",
    "\n",
    "и `default.final_project_check`:\n",
    "\n",
    "| Название атрибута | Тип атрибута | Смысловое значение                         |\n",
    "|-------------------|--------------|--------------------------------------------|\n",
    "| st_id             | int          | ID ученика                                 |\n",
    "| sale_time         | timestamp    | Время покупки                              |\n",
    "| money             | int          | Цена, по которой приобрели данный курс     |\n",
    "| subject           | text         |                                            |\n",
    "\t\n",
    "Необходимо __в одном запросе__ выгрузить следующую информацию о группах пользователей:\n",
    "\n",
    "- ARPU \n",
    "- ARPAU \n",
    "- CR в покупку \n",
    "- СR активного пользователя в покупку \n",
    "- CR пользователя из активности по математике (subject = ’math’) в покупку курса по математике\n",
    "\n",
    "ARPU считается относительно всех пользователей, попавших в группы.\n",
    "\n",
    "`Активным` считается пользователь, за все время решивший `больше 10 задач` правильно в любых дисциплинах.\n",
    "\n",
    "`Активным по математике` считается пользователь, за все время решивший `2 или больше задач` правильно по математике.\n",
    "\n",
    "__Все данные находятся в табличном виде в ClickHouse__\n",
    "\n",
    "---"
   ]
  },
  {
   "cell_type": "code",
   "execution_count": 77,
   "metadata": {},
   "outputs": [
    {
     "data": {
      "text/html": [
       "<div>\n",
       "<style scoped>\n",
       "    .dataframe tbody tr th:only-of-type {\n",
       "        vertical-align: middle;\n",
       "    }\n",
       "\n",
       "    .dataframe tbody tr th {\n",
       "        vertical-align: top;\n",
       "    }\n",
       "\n",
       "    .dataframe thead th {\n",
       "        text-align: right;\n",
       "    }\n",
       "</style>\n",
       "<table border=\"1\" class=\"dataframe\">\n",
       "  <thead>\n",
       "    <tr style=\"text-align: right;\">\n",
       "      <th></th>\n",
       "      <th>test_grp</th>\n",
       "      <th>ARPU</th>\n",
       "      <th>ARPAU</th>\n",
       "      <th>CR_to_client</th>\n",
       "      <th>CR_ative_users_to_client</th>\n",
       "      <th>CR_active_math</th>\n",
       "    </tr>\n",
       "  </thead>\n",
       "  <tbody>\n",
       "    <tr>\n",
       "      <th>0</th>\n",
       "      <td>control</td>\n",
       "      <td>4540.983607</td>\n",
       "      <td>10393.700787</td>\n",
       "      <td>0.052459</td>\n",
       "      <td>0.110236</td>\n",
       "      <td>0.061224</td>\n",
       "    </tr>\n",
       "    <tr>\n",
       "      <th>1</th>\n",
       "      <td>pilot</td>\n",
       "      <td>11508.474576</td>\n",
       "      <td>29739.583333</td>\n",
       "      <td>0.111864</td>\n",
       "      <td>0.260417</td>\n",
       "      <td>0.095238</td>\n",
       "    </tr>\n",
       "  </tbody>\n",
       "</table>\n",
       "</div>"
      ],
      "text/plain": [
       "  test_grp          ARPU         ARPAU  CR_to_client  \\\n",
       "0  control   4540.983607  10393.700787      0.052459   \n",
       "1    pilot  11508.474576  29739.583333      0.111864   \n",
       "\n",
       "   CR_ative_users_to_client  CR_active_math  \n",
       "0                  0.110236        0.061224  \n",
       "1                  0.260417        0.095238  "
      ]
     },
     "execution_count": 77,
     "metadata": {},
     "output_type": "execute_result"
    }
   ],
   "source": [
    "q = '''\n",
    "    SELECT\n",
    "        test_grp,\n",
    "        SUM (money) / COUNT (DISTINCT st_id) AS ARPU,\n",
    "        SUM (CASE WHEN sum_correct>10 THEN money END) / COUNT (DISTINCT CASE WHEN sum_correct>10 THEN st_id END) AS ARPAU,\n",
    "        COUNT (DISTINCT fpc.st_id) / COUNT (DISTINCT A.st_id) AS CR_to_client,\n",
    "        COUNT (DISTINCT CASE WHEN sum_correct>10 AND money>0 THEN fpc.st_id END) / COUNT (DISTINCT CASE WHEN sum_correct>10 THEN A.st_id END) AS CR_ative_users_to_client,\n",
    "        COUNT (DISTINCT CASE WHEN fpc.subject='Math' AND sum_correct_math>=2 THEN fpc.st_id END) / COUNT (DISTINCT CASE WHEN sum_correct_math>=2 THEN A.st_id END) AS CR_active_math\n",
    "    FROM(\n",
    "        SELECT\n",
    "            st_id,\n",
    "            test_grp,\n",
    "            SUM (correct) AS sum_correct,\n",
    "            SUM (CASE WHEN p.subject='Math' THEN correct END) AS sum_correct_math\n",
    "        FROM {db}.studs AS s\n",
    "        LEFT JOIN\n",
    "            {db}.peas AS p ON s.st_id=p.st_id\n",
    "        GROUP BY st_id, test_grp\n",
    "        ) AS A\n",
    "    LEFT JOIN\n",
    "        {db}.final_project_check AS fpc ON A.st_id=fpc.st_id\n",
    "    GROUP BY test_grp\n",
    "    '''\n",
    "\n",
    "q_final_2 = ph.read_clickhouse(query=q, connection=connection_default)\n",
    "q_final_2"
   ]
  },
  {
   "cell_type": "markdown",
   "metadata": {},
   "source": [
    ">Комментарии по блоку `SELECT`:\n",
    "\n",
    "- __`ARPU`__ - средний платеж на всех зарегистрированных игроков\n",
    "- `SUM (money)` - кол-во всех денег полученных от пользователей (клиентов)\n",
    "- `COUNT (DISTINCT st_id)` - кол-во уникальных пользователей\n",
    "\n",
    "\n",
    "- __`ARPAU`__ - средний платеж на всех активных пользователей\n",
    "- `SUM (CASE WHEN sum_correct>10 THEN money END)` - кол-во денег, полученных от все активных пользователей (клиентов)\n",
    "- `COUNT (DISTINCT CASE WHEN sum_correct>10 THEN st_id END)` - кол-во уникальных активных пользователей\n",
    "\n",
    "\n",
    "- __`CR`__ - конверсия пользователя в клиента\n",
    "- `COUNT (DISTINCT fpc.st_id)` - кол-во уникальных клиентов\n",
    "- `COUNT (DISTINCT A.st_id)` - кол-во уникальных пользователей\n",
    "\n",
    "\n",
    "- __`СR активного пользователя в покупку`__ - конверсия активного пользователя в клиента\n",
    "- `COUNT (DISTINCT CASE WHEN sum_correct>10 AND money>0 THEN fpc.st_id END)` - кол-во уникальных активных клиентов\n",
    "- `COUNT (DISTINCT CASE WHEN sum_correct>10 THEN A.st_id END)` - кол-во уникальных активных пользователей\n",
    "\n",
    "\n",
    "- __`CR активного пользователя по математике в покупку курса по математике`__ - конверсия активного пользователя по математике в клиента по математике\n",
    "- `COUNT (DISTINCT CASE WHEN fpc.subject='Math' AND sum_correct_math>=2 THEN fpc.st_id END)` - кол-во уникальных активных клиентов по математике\n",
    "- `COUNT (DISTINCT CASE WHEN sum_correct_math>=2 THEN A.st_id END)` - кол-во уникальных активных пользователей по математике\n",
    "\n",
    ">Комментарии по блокам `JOIN`:\n",
    "\n",
    "- в двух случаях используем `LEFT JOIN`\n",
    "- вначале к данным из `studs` (информация о группе пользователя) присоединяем значения из `peas` (кол-во правильно решенных заданий с группировкой по id пользователя)\n",
    "- затем к получившийся таблице `А` добавляем значения из `final_project_check` (информация об оплатах пользователей)\n"
   ]
  },
  {
   "cell_type": "markdown",
   "metadata": {},
   "source": [
    "---\n",
    "### Задание 3. Python\n",
    "\n",
    "\n",
    "#### 1. Реализуйте функцию, которая будет автоматически подгружать информацию из дополнительного файла groups_add.csv (заголовки могут отличаться) и на основании дополнительных параметров пересчитывать метрики.\n",
    "\n",
    "---"
   ]
  },
  {
   "cell_type": "markdown",
   "metadata": {},
   "source": [
    " >Для начала выведем все необходимые метрики без учета файла который нам выслали через 2 дня (groups_add.csv). Автоматизируем процесс который мы использовали в первом шаге и напишем функцию, которая будет принимать на вход три ссылки на данные и выдавать готовый датафрем с интересующими нас метриками."
   ]
  },
  {
   "cell_type": "code",
   "execution_count": 21,
   "metadata": {},
   "outputs": [],
   "source": [
    "def metrics(groups = 'groups.csv', active_studs = 'active_studs.csv', checks = 'checks.csv'):\n",
    "    \n",
    "    df_groups = pd.read_csv(groups, sep=';')\n",
    "    df_active_studs = pd.read_csv(active_studs, sep=';')\n",
    "    df_checks = pd.read_csv(checks, sep=';')\n",
    "    \n",
    "    df = df_active_studs.merge(df_groups, left_on = 'student_id', right_on = 'id', how = 'left')\n",
    "    df = df.merge(df_checks, on = 'student_id', how = 'left')[['student_id', 'grp', 'rev']]\n",
    "    \n",
    "    number_users_a = df.query('grp == \"A\"').student_id.count()\n",
    "    number_users_b = df.query('grp == \"B\"').student_id.count()\n",
    "    number_clients_a = df.query('grp == \"A\" and rev > 0').student_id.count()\n",
    "    number_clients_b = df.query('grp == \"B\" and rev > 0').student_id.count()\n",
    "    conversion_a = number_clients_a / number_users_a\n",
    "    conversion_b = number_clients_b / number_users_b\n",
    "    revenue_a = df.query('grp == \"A\"').rev.sum()\n",
    "    revenue_b = df.query('grp == \"B\"').rev.sum()\n",
    "    arppu_a = revenue_a/number_clients_a\n",
    "    arppu_b = revenue_b/number_clients_b\n",
    "    arpu_a = conversion_a * arppu_a\n",
    "    arpu_b = conversion_b * arppu_b\n",
    "\n",
    "    all_info = pd.DataFrame({'group': ['A', 'B'],\n",
    "                         'count_users': [number_users_a, number_users_b],\n",
    "                         'count_clients': [number_clients_a, number_clients_b],\n",
    "                         'CR_user_to_client': [conversion_a, conversion_b],\n",
    "                         'revenue': [revenue_a, revenue_b],\n",
    "                         'ARPPU': [arppu_a, arppu_b],\n",
    "                         'ARPU': [arpu_a, arpu_b]\n",
    "                        })\n",
    "    \n",
    "    return all_info"
   ]
  },
  {
   "cell_type": "markdown",
   "metadata": {},
   "source": [
    ">Не указываем ссылки на наши данные, так как выше в функции мы задали значения по умолчанию, но в случае если ссылки изменяться, мы всегда сможем просто указать их вручную."
   ]
  },
  {
   "cell_type": "code",
   "execution_count": 22,
   "metadata": {},
   "outputs": [
    {
     "data": {
      "text/html": [
       "<div>\n",
       "<style scoped>\n",
       "    .dataframe tbody tr th:only-of-type {\n",
       "        vertical-align: middle;\n",
       "    }\n",
       "\n",
       "    .dataframe tbody tr th {\n",
       "        vertical-align: top;\n",
       "    }\n",
       "\n",
       "    .dataframe thead th {\n",
       "        text-align: right;\n",
       "    }\n",
       "</style>\n",
       "<table border=\"1\" class=\"dataframe\">\n",
       "  <thead>\n",
       "    <tr style=\"text-align: right;\">\n",
       "      <th></th>\n",
       "      <th>group</th>\n",
       "      <th>count_users</th>\n",
       "      <th>count_clients</th>\n",
       "      <th>CR_user_to_client</th>\n",
       "      <th>revenue</th>\n",
       "      <th>ARPPU</th>\n",
       "      <th>ARPU</th>\n",
       "    </tr>\n",
       "  </thead>\n",
       "  <tbody>\n",
       "    <tr>\n",
       "      <th>0</th>\n",
       "      <td>A</td>\n",
       "      <td>1535</td>\n",
       "      <td>78</td>\n",
       "      <td>0.050814</td>\n",
       "      <td>72820.0000</td>\n",
       "      <td>933.589744</td>\n",
       "      <td>47.439739</td>\n",
       "    </tr>\n",
       "    <tr>\n",
       "      <th>1</th>\n",
       "      <td>B</td>\n",
       "      <td>6793</td>\n",
       "      <td>313</td>\n",
       "      <td>0.046077</td>\n",
       "      <td>393074.0035</td>\n",
       "      <td>1255.827487</td>\n",
       "      <td>57.864567</td>\n",
       "    </tr>\n",
       "  </tbody>\n",
       "</table>\n",
       "</div>"
      ],
      "text/plain": [
       "  group  count_users  count_clients  CR_user_to_client      revenue  \\\n",
       "0     A         1535             78           0.050814   72820.0000   \n",
       "1     B         6793            313           0.046077  393074.0035   \n",
       "\n",
       "         ARPPU       ARPU  \n",
       "0   933.589744  47.439739  \n",
       "1  1255.827487  57.864567  "
      ]
     },
     "execution_count": 22,
     "metadata": {},
     "output_type": "execute_result"
    }
   ],
   "source": [
    "metrics()"
   ]
  },
  {
   "cell_type": "markdown",
   "metadata": {},
   "source": [
    ">Теперь напишим функцию которая будет принимать на вход тольколь один элемент, это таблица с доп.данным (groups_add.csv) и на выходе выдавать обновленные метрики с учетом новых данных, также зададим ссылку на новую таблицу в значения по умолчанию."
   ]
  },
  {
   "cell_type": "code",
   "execution_count": 27,
   "metadata": {},
   "outputs": [],
   "source": [
    "def metrics_add(groups_add = 'group_add.csv'):\n",
    "    \n",
    "    df_groups_ad = pd.read_csv(groups_add, sep=',')\n",
    "    \n",
    "    df_groups = pd.read_csv('groups.csv', sep=';')\n",
    "    df_active_studs = pd.read_csv('active_studs.csv', sep=';')\n",
    "    df_checks = pd.read_csv('checks.csv', sep=';') \n",
    "  \n",
    "    df = pd.concat([df_groups, df_groups_ad])\n",
    "    \n",
    "    df = df_active_studs.merge(df, left_on = 'student_id', right_on = 'id', how = 'left')\n",
    "    df = df.merge(df_checks, on = 'student_id', how = 'left')[['student_id', 'grp', 'rev']]\n",
    "    \n",
    "    number_users_a = df.query('grp == \"A\"').student_id.count()\n",
    "    number_users_b = df.query('grp == \"B\"').student_id.count()\n",
    "    number_clients_a = df.query('grp == \"A\" and rev > 0').student_id.count()\n",
    "    number_clients_b = df.query('grp == \"B\" and rev > 0').student_id.count()\n",
    "    conversion_a = number_clients_a / number_users_a\n",
    "    conversion_b = number_clients_b / number_users_b\n",
    "    revenue_a = df.query('grp == \"A\"').rev.sum()\n",
    "    revenue_b = df.query('grp == \"B\"').rev.sum()\n",
    "    arppu_a = revenue_a/number_clients_a\n",
    "    arppu_b = revenue_b/number_clients_b\n",
    "    arpu_a = conversion_a * arppu_a\n",
    "    arpu_b = conversion_b * arppu_b\n",
    "\n",
    "    all_info = pd.DataFrame({'group': ['A', 'B'],\n",
    "                         'count_users': [number_users_a, number_users_b],\n",
    "                         'count_clients': [number_clients_a, number_clients_b],\n",
    "                         'CR_user_to_client': [conversion_a, conversion_b],\n",
    "                         'revenue': [revenue_a, revenue_b],\n",
    "                         'ARPPU': [arppu_a, arppu_b],\n",
    "                         'ARPU': [arpu_a, arpu_b]\n",
    "                        })\n",
    "    \n",
    "    return all_info"
   ]
  },
  {
   "cell_type": "markdown",
   "metadata": {},
   "source": [
    ">При вызове этой функции на выходе мы получаем пересчитанные значения метрик."
   ]
  },
  {
   "cell_type": "code",
   "execution_count": 28,
   "metadata": {},
   "outputs": [
    {
     "data": {
      "text/html": [
       "<div>\n",
       "<style scoped>\n",
       "    .dataframe tbody tr th:only-of-type {\n",
       "        vertical-align: middle;\n",
       "    }\n",
       "\n",
       "    .dataframe tbody tr th {\n",
       "        vertical-align: top;\n",
       "    }\n",
       "\n",
       "    .dataframe thead th {\n",
       "        text-align: right;\n",
       "    }\n",
       "</style>\n",
       "<table border=\"1\" class=\"dataframe\">\n",
       "  <thead>\n",
       "    <tr style=\"text-align: right;\">\n",
       "      <th></th>\n",
       "      <th>group</th>\n",
       "      <th>count_users</th>\n",
       "      <th>count_clients</th>\n",
       "      <th>CR_user_to_client</th>\n",
       "      <th>revenue</th>\n",
       "      <th>ARPPU</th>\n",
       "      <th>ARPU</th>\n",
       "    </tr>\n",
       "  </thead>\n",
       "  <tbody>\n",
       "    <tr>\n",
       "      <th>0</th>\n",
       "      <td>A</td>\n",
       "      <td>1538</td>\n",
       "      <td>78</td>\n",
       "      <td>0.050715</td>\n",
       "      <td>72820.0000</td>\n",
       "      <td>933.589744</td>\n",
       "      <td>47.347204</td>\n",
       "    </tr>\n",
       "    <tr>\n",
       "      <th>1</th>\n",
       "      <td>B</td>\n",
       "      <td>6803</td>\n",
       "      <td>314</td>\n",
       "      <td>0.046156</td>\n",
       "      <td>394974.0035</td>\n",
       "      <td>1257.878992</td>\n",
       "      <td>58.058798</td>\n",
       "    </tr>\n",
       "  </tbody>\n",
       "</table>\n",
       "</div>"
      ],
      "text/plain": [
       "  group  count_users  count_clients  CR_user_to_client      revenue  \\\n",
       "0     A         1538             78           0.050715   72820.0000   \n",
       "1     B         6803            314           0.046156  394974.0035   \n",
       "\n",
       "         ARPPU       ARPU  \n",
       "0   933.589744  47.347204  \n",
       "1  1257.878992  58.058798  "
      ]
     },
     "execution_count": 28,
     "metadata": {},
     "output_type": "execute_result"
    }
   ],
   "source": [
    "metrics_add()"
   ]
  },
  {
   "cell_type": "markdown",
   "metadata": {},
   "source": [
    "---\n",
    "#### 2. Реализуйте функцию, которая будет строить графики по получаемым метрикам.\n",
    "\n",
    "---"
   ]
  },
  {
   "cell_type": "markdown",
   "metadata": {},
   "source": [
    ">На графиках покажем изменчивость метрик в зависимости от поступления новых данных, да у нас их всего два, но если какая-то метрика начинает меняться, это будет уже неплохим показателем что на это стоит обратить внимание"
   ]
  },
  {
   "cell_type": "code",
   "execution_count": 30,
   "metadata": {},
   "outputs": [],
   "source": [
    "def test():\n",
    "    #используем здесь функции написанные ранее, для вывода датафремов с готовыми метриками\n",
    "    df_metrics_0 = metrics()\n",
    "    df_metrics_1 = metrics_add()\n",
    "    #теперь добавим новый столбец который будет отображать на какой версии наших данных мы получили такие результаты\n",
    "    df_metrics_0['version'] = 0\n",
    "    df_metrics_1['version'] = 1\n",
    "    #объеденим два датафрема\n",
    "    df_all_metrics = pd.concat([df_metrics_0, df_metrics_1])\n",
    "    #оставим только столбцы с метриками, принадлежностью к группе и версией данных\n",
    "    df_all_metrics = df_all_metrics[['group', 'CR_user_to_client', 'ARPPU', 'ARPU', 'version']]\n",
    "    return df_all_metrics"
   ]
  },
  {
   "cell_type": "code",
   "execution_count": 36,
   "metadata": {},
   "outputs": [
    {
     "data": {
      "text/html": [
       "<div>\n",
       "<style scoped>\n",
       "    .dataframe tbody tr th:only-of-type {\n",
       "        vertical-align: middle;\n",
       "    }\n",
       "\n",
       "    .dataframe tbody tr th {\n",
       "        vertical-align: top;\n",
       "    }\n",
       "\n",
       "    .dataframe thead th {\n",
       "        text-align: right;\n",
       "    }\n",
       "</style>\n",
       "<table border=\"1\" class=\"dataframe\">\n",
       "  <thead>\n",
       "    <tr style=\"text-align: right;\">\n",
       "      <th></th>\n",
       "      <th>group</th>\n",
       "      <th>CR_user_to_client</th>\n",
       "      <th>ARPPU</th>\n",
       "      <th>ARPU</th>\n",
       "      <th>version</th>\n",
       "    </tr>\n",
       "  </thead>\n",
       "  <tbody>\n",
       "    <tr>\n",
       "      <th>0</th>\n",
       "      <td>A</td>\n",
       "      <td>0.050814</td>\n",
       "      <td>933.589744</td>\n",
       "      <td>47.439739</td>\n",
       "      <td>0</td>\n",
       "    </tr>\n",
       "    <tr>\n",
       "      <th>1</th>\n",
       "      <td>B</td>\n",
       "      <td>0.046077</td>\n",
       "      <td>1255.827487</td>\n",
       "      <td>57.864567</td>\n",
       "      <td>0</td>\n",
       "    </tr>\n",
       "    <tr>\n",
       "      <th>0</th>\n",
       "      <td>A</td>\n",
       "      <td>0.050715</td>\n",
       "      <td>933.589744</td>\n",
       "      <td>47.347204</td>\n",
       "      <td>1</td>\n",
       "    </tr>\n",
       "    <tr>\n",
       "      <th>1</th>\n",
       "      <td>B</td>\n",
       "      <td>0.046156</td>\n",
       "      <td>1257.878992</td>\n",
       "      <td>58.058798</td>\n",
       "      <td>1</td>\n",
       "    </tr>\n",
       "  </tbody>\n",
       "</table>\n",
       "</div>"
      ],
      "text/plain": [
       "  group  CR_user_to_client        ARPPU       ARPU  version\n",
       "0     A           0.050814   933.589744  47.439739        0\n",
       "1     B           0.046077  1255.827487  57.864567        0\n",
       "0     A           0.050715   933.589744  47.347204        1\n",
       "1     B           0.046156  1257.878992  58.058798        1"
      ]
     },
     "execution_count": 36,
     "metadata": {},
     "output_type": "execute_result"
    }
   ],
   "source": [
    "#вызываем написанную функцию и получаем наши метрики, в одном датафрейме, с указанием версии этих данных\n",
    "test()"
   ]
  },
  {
   "cell_type": "markdown",
   "metadata": {},
   "source": [
    ">Теперь усложним нашу функцию чтобы на выходе мы получали графики показывающие изменения каждой метрики в зависимости от версии данных."
   ]
  },
  {
   "cell_type": "code",
   "execution_count": 31,
   "metadata": {},
   "outputs": [],
   "source": [
    "def add_charts():\n",
    "    #первые 6 строк полностью дублируют тестовую функцию\n",
    "    df_metrics_0 = metrics()\n",
    "    df_metrics_1 = metrics_add()\n",
    "    df_metrics_0['version'] = 0\n",
    "    df_metrics_1['version'] = 1\n",
    "    df_all_metrics = pd.concat([df_metrics_0, df_metrics_1])\n",
    "    df_all_metrics = df_all_metrics[['group', 'CR_user_to_client', 'ARPPU', 'ARPU', 'version']]\n",
    "    \n",
    "    #зададим кол-во графиков в поле и размер этого поля\n",
    "    figure, axes = plt.subplots(1, 3, sharex=True, figsize=(20,10))   \n",
    "\n",
    "    # заголовок\n",
    "    figure.suptitle('Изменения метрик в зависимости от версии данных', fontsize=18)\n",
    "    \n",
    "    #заменим фон графика\n",
    "    sns.set_style(\"darkgrid\")\n",
    "        \n",
    "    plt.subplot(1, 3, 1) #указываем в каком месте поля для графиков будет располагаться каждый из них\n",
    "    ax_1 = sns.lineplot(data = test_test, x = 'version', y = 'CR_user_to_client', hue = 'group')\n",
    "    #изменим подписи осей\n",
    "    ax_1.set(xlabel = 'Версия данных', ylabel = 'CR (конверсия пользователя в клиента)')\n",
    "    #поправим интервалы на оси x, т.к. у нас всего две версии\n",
    "    ax_1.xaxis.set_major_locator(ticker.MultipleLocator(1))\n",
    "    \n",
    "    plt.subplot(1, 3, 2)\n",
    "    ax_2 = sns.lineplot(data = test_test, x = 'version', y = 'ARPPU', hue = 'group')\n",
    "    ax_2.set(xlabel = 'Версия данных')\n",
    "    ax_2.xaxis.set_major_locator(ticker.MultipleLocator(1))\n",
    "    \n",
    "    plt.subplot(1, 3, 3)\n",
    "    ax_3 = sns.lineplot(data = test_test, x = 'version', y = 'ARPU', hue = 'group')\n",
    "    ax_3.set(xlabel = 'Версия данных')\n",
    "    ax_3.xaxis.set_major_locator(ticker.MultipleLocator(1))"
   ]
  },
  {
   "cell_type": "code",
   "execution_count": 163,
   "metadata": {},
   "outputs": [
    {
     "data": {
      "image/png": "[encoded data removed]",
      "text/plain": [
       "<Figure size 1440x720 with 3 Axes>"
      ]
     },
     "metadata": {},
     "output_type": "display_data"
    }
   ],
   "source": [
    "#при вызове функции получаем графики наших метрик отражающие их изменчивость из-за разных версий\n",
    "add_charts()"
   ]
  }
 ],
 "metadata": {
  "kernelspec": {
   "display_name": "Python 3 (ipykernel)",
   "language": "python",
   "name": "python3"
  },
  "language_info": {
   "codemirror_mode": {
    "name": "ipython",
    "version": 3
   },
   "file_extension": ".py",
   "mimetype": "text/x-python",
   "name": "python",
   "nbconvert_exporter": "python",
   "pygments_lexer": "ipython3",
   "version": "3.9.13"
  }
 },
 "nbformat": 4,
 "nbformat_minor": 4
}
